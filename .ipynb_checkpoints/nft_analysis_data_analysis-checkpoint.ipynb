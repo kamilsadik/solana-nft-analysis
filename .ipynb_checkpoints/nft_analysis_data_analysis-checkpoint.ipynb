{
 "cells": [
  {
   "cell_type": "code",
   "execution_count": 21,
   "metadata": {},
   "outputs": [],
   "source": [
    "import numpy as np\n",
    "import pandas as pd\n",
    "import json\n",
    "\n",
    "import matplotlib.pyplot as plt\n",
    "import seaborn as sns\n",
    "%matplotlib inline"
   ]
  },
  {
   "cell_type": "code",
   "execution_count": 22,
   "metadata": {},
   "outputs": [
    {
     "name": "stdout",
     "output_type": "stream",
     "text": [
      "4.14.3\n"
     ]
    }
   ],
   "source": [
    "from plotly import __version__\n",
    "import plotly.graph_objs as go\n",
    "from plotly.subplots import make_subplots\n",
    "from plotly.offline import download_plotlyjs, init_notebook_mode, plot, iplot\n",
    "import plotly.io as pio\n",
    "\n",
    "print(__version__) # requires version >= 1.9.0"
   ]
  },
  {
   "cell_type": "code",
   "execution_count": 23,
   "metadata": {},
   "outputs": [
    {
     "data": {
      "text/html": [
       "        <script type=\"text/javascript\">\n",
       "        window.PlotlyConfig = {MathJaxConfig: 'local'};\n",
       "        if (window.MathJax) {MathJax.Hub.Config({SVG: {font: \"STIX-Web\"}});}\n",
       "        if (typeof require !== 'undefined') {\n",
       "        require.undef(\"plotly\");\n",
       "        requirejs.config({\n",
       "            paths: {\n",
       "                'plotly': ['https://cdn.plot.ly/plotly-latest.min']\n",
       "            }\n",
       "        });\n",
       "        require(['plotly'], function(Plotly) {\n",
       "            window._Plotly = Plotly;\n",
       "        });\n",
       "        }\n",
       "        </script>\n",
       "        "
      ]
     },
     "metadata": {},
     "output_type": "display_data"
    },
    {
     "data": {
      "text/html": [
       "        <script type=\"text/javascript\">\n",
       "        window.PlotlyConfig = {MathJaxConfig: 'local'};\n",
       "        if (window.MathJax) {MathJax.Hub.Config({SVG: {font: \"STIX-Web\"}});}\n",
       "        if (typeof require !== 'undefined') {\n",
       "        require.undef(\"plotly\");\n",
       "        requirejs.config({\n",
       "            paths: {\n",
       "                'plotly': ['https://cdn.plot.ly/plotly-latest.min']\n",
       "            }\n",
       "        });\n",
       "        require(['plotly'], function(Plotly) {\n",
       "            window._Plotly = Plotly;\n",
       "        });\n",
       "        }\n",
       "        </script>\n",
       "        "
      ]
     },
     "metadata": {},
     "output_type": "display_data"
    }
   ],
   "source": [
    "import cufflinks as cf\n",
    "init_notebook_mode(connected = True)\n",
    "cf.go_offline()"
   ]
  },
  {
   "cell_type": "code",
   "execution_count": 6,
   "metadata": {},
   "outputs": [],
   "source": [
    "machine_to_transction = dict()\n",
    "\n",
    "with open(\"machine_to_transaction.json\") as file:\n",
    "    machine_to_transaction = json.load(file)"
   ]
  },
  {
   "cell_type": "code",
   "execution_count": 10,
   "metadata": {},
   "outputs": [],
   "source": [
    "machine_to_num_transactions = dict()\n",
    "\n",
    "for machine in machine_to_transaction:\n",
    "    machine_to_num_transactions[machine] = len(machine_to_transaction[machine])"
   ]
  },
  {
   "cell_type": "code",
   "execution_count": 15,
   "metadata": {},
   "outputs": [],
   "source": [
    "df = pd.DataFrame(machine_to_num_transactions.items(), columns=['candy_machine_id', 'num_transactions'])"
   ]
  },
  {
   "cell_type": "code",
   "execution_count": 29,
   "metadata": {},
   "outputs": [
    {
     "data": {
      "text/html": [
       "<div>\n",
       "<style scoped>\n",
       "    .dataframe tbody tr th:only-of-type {\n",
       "        vertical-align: middle;\n",
       "    }\n",
       "\n",
       "    .dataframe tbody tr th {\n",
       "        vertical-align: top;\n",
       "    }\n",
       "\n",
       "    .dataframe thead th {\n",
       "        text-align: right;\n",
       "    }\n",
       "</style>\n",
       "<table border=\"1\" class=\"dataframe\">\n",
       "  <thead>\n",
       "    <tr style=\"text-align: right;\">\n",
       "      <th></th>\n",
       "      <th>candy_machine_id</th>\n",
       "      <th>num_transactions</th>\n",
       "    </tr>\n",
       "  </thead>\n",
       "  <tbody>\n",
       "    <tr>\n",
       "      <th>9204</th>\n",
       "      <td>GBbfXrM9faLg98ZhyKJmFXBrCtAc5sbQ62iatMt3LGo8</td>\n",
       "      <td>25</td>\n",
       "    </tr>\n",
       "    <tr>\n",
       "      <th>1072</th>\n",
       "      <td>DVZz97MjHkbFcnMpNPXAdekP1UUXeHyGftuhondEHotG</td>\n",
       "      <td>25</td>\n",
       "    </tr>\n",
       "    <tr>\n",
       "      <th>11226</th>\n",
       "      <td>527gSFJMiwhrswMS3Fi9HoJjMM1rH6wvaFvhEQQ6gTDX</td>\n",
       "      <td>25</td>\n",
       "    </tr>\n",
       "    <tr>\n",
       "      <th>13397</th>\n",
       "      <td>GhnKhmfQwEm9scSPGFjFC6kMpdJaaopkvbAayfrinAdy</td>\n",
       "      <td>25</td>\n",
       "    </tr>\n",
       "    <tr>\n",
       "      <th>11233</th>\n",
       "      <td>CTBfvBmH6zgxGkLEHUvpPzU2f638oEhoDTFqSbtoyNF9</td>\n",
       "      <td>25</td>\n",
       "    </tr>\n",
       "    <tr>\n",
       "      <th>...</th>\n",
       "      <td>...</td>\n",
       "      <td>...</td>\n",
       "    </tr>\n",
       "    <tr>\n",
       "      <th>13917</th>\n",
       "      <td>H6vVHZufpLGRjo8ecxDf5R2FnEMyf4tZBw9rPkDPeqam</td>\n",
       "      <td>1</td>\n",
       "    </tr>\n",
       "    <tr>\n",
       "      <th>6084</th>\n",
       "      <td>3fFQqKhbtD1wVhk1bBhsZJSMQvmTqAhr9qKC7Lacdn8X</td>\n",
       "      <td>1</td>\n",
       "    </tr>\n",
       "    <tr>\n",
       "      <th>6083</th>\n",
       "      <td>5DLQYRrcJWSaaoefeSPSshgsHx9rAbmnJ9kB1spKz6uV</td>\n",
       "      <td>1</td>\n",
       "    </tr>\n",
       "    <tr>\n",
       "      <th>2366</th>\n",
       "      <td>DU39PmvTGXqxrcP9TjJPzpPAePANsiiEk3omZUQRzBse</td>\n",
       "      <td>1</td>\n",
       "    </tr>\n",
       "    <tr>\n",
       "      <th>12385</th>\n",
       "      <td>G2Sai7zbSx7hBW7XU5Dwbp9xbxDWAsdVsVALivziHVye</td>\n",
       "      <td>1</td>\n",
       "    </tr>\n",
       "  </tbody>\n",
       "</table>\n",
       "<p>15564 rows × 2 columns</p>\n",
       "</div>"
      ],
      "text/plain": [
       "                                   candy_machine_id  num_transactions\n",
       "9204   GBbfXrM9faLg98ZhyKJmFXBrCtAc5sbQ62iatMt3LGo8                25\n",
       "1072   DVZz97MjHkbFcnMpNPXAdekP1UUXeHyGftuhondEHotG                25\n",
       "11226  527gSFJMiwhrswMS3Fi9HoJjMM1rH6wvaFvhEQQ6gTDX                25\n",
       "13397  GhnKhmfQwEm9scSPGFjFC6kMpdJaaopkvbAayfrinAdy                25\n",
       "11233  CTBfvBmH6zgxGkLEHUvpPzU2f638oEhoDTFqSbtoyNF9                25\n",
       "...                                             ...               ...\n",
       "13917  H6vVHZufpLGRjo8ecxDf5R2FnEMyf4tZBw9rPkDPeqam                 1\n",
       "6084   3fFQqKhbtD1wVhk1bBhsZJSMQvmTqAhr9qKC7Lacdn8X                 1\n",
       "6083   5DLQYRrcJWSaaoefeSPSshgsHx9rAbmnJ9kB1spKz6uV                 1\n",
       "2366   DU39PmvTGXqxrcP9TjJPzpPAePANsiiEk3omZUQRzBse                 1\n",
       "12385  G2Sai7zbSx7hBW7XU5Dwbp9xbxDWAsdVsVALivziHVye                 1\n",
       "\n",
       "[15564 rows x 2 columns]"
      ]
     },
     "execution_count": 29,
     "metadata": {},
     "output_type": "execute_result"
    }
   ],
   "source": [
    "df.sort_values(by=\"num_transactions\", axis=0, ascending=False, inplace=False)"
   ]
  },
  {
   "cell_type": "code",
   "execution_count": 47,
   "metadata": {},
   "outputs": [],
   "source": [
    "transaction_count_buckets = dict()\n",
    "\n",
    "for num in [25, 20, 15, 10, 5]:\n",
    "    transaction_count_buckets[num] = len(df[df[\"num_transactions\"] < num])"
   ]
  },
  {
   "cell_type": "code",
   "execution_count": 48,
   "metadata": {},
   "outputs": [
    {
     "data": {
      "text/plain": [
       "{25: 14443, 20: 14394, 15: 14316, 10: 14120, 5: 13342}"
      ]
     },
     "execution_count": 48,
     "metadata": {},
     "output_type": "execute_result"
    }
   ],
   "source": [
    "transaction_count_buckets"
   ]
  },
  {
   "cell_type": "code",
   "execution_count": null,
   "metadata": {},
   "outputs": [],
   "source": []
  }
 ],
 "metadata": {
  "kernelspec": {
   "display_name": "Python 3",
   "language": "python",
   "name": "python3"
  },
  "language_info": {
   "codemirror_mode": {
    "name": "ipython",
    "version": 3
   },
   "file_extension": ".py",
   "mimetype": "text/x-python",
   "name": "python",
   "nbconvert_exporter": "python",
   "pygments_lexer": "ipython3",
   "version": "3.8.5"
  }
 },
 "nbformat": 4,
 "nbformat_minor": 4
}
